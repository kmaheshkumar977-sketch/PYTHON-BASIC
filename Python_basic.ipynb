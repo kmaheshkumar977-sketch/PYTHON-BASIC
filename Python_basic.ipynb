{
  "nbformat": 4,
  "nbformat_minor": 0,
  "metadata": {
    "colab": {
      "provenance": []
    },
    "kernelspec": {
      "name": "python3",
      "display_name": "Python 3"
    },
    "language_info": {
      "name": "python"
    }
  },
  "cells": [
    {
      "cell_type": "markdown",
      "source": [
        "**THEORY**\n"
      ],
      "metadata": {
        "id": "KarDF21Evyun"
      }
    },
    {
      "cell_type": "markdown",
      "source": [
        "1. What is Python, and why is it popular\n",
        "    - Python is a computer programming language often used to build websites and software, automate tasks, and analyse data. Python is a general-purpose language, not specialised for any specific problems, and used to create various programmes. This versatility and its beginner-friendliness have made it one of the most used programming languages today.\n",
        "    - Python is commonly used for website and software development, task automation, data analysis, and data visualisation. Since it’s relatively easy to learn, Python has been adopted by many non-programmers, such as accountants and scientists, for a variety of everyday tasks, like organising finances.\n",
        " - Python is popular for several reasons. Here's a deeper look at what makes it versatile and easy for coders to use.\n",
        "   - It has a simple syntax that mimics natural language, so it’s easier to read and understand. This makes it quicker to build projects and faster to improve on them.\n",
        "   - It’s versatile. Python can be used for many different tasks, from web development to machine learning.\n",
        "   - It’s beginner-friendly, making it popular for entry-level coders.\n",
        "   - It’s open source, which means it’s free to use and distribute, even for commercial purposes.\n",
        "   - Python’s archive of modules and libraries—bundles of code that third-party users have created to expand Python’s capabilities is vast and growing.\n",
        "   - Python has a large and active community that contributes to Python’s pool of modules and libraries and acts as a helpful resource for other programmers. The vast support community means that when coders need help, finding a solution is relatively easy; somebody has likely encountered the same problem before."
      ],
      "metadata": {
        "id": "qvnVdcxAw6Dg"
      }
    },
    {
      "cell_type": "markdown",
      "source": [
        "2. What is an interpreter in Python\n",
        "   - A Python interpreter is a program that converts Python code into machine-readable instructions and runs them, enabling you to execute Python scripts and view results instantly. It acts as a bridge between the high-level Python code you write and the low-level instructions that the computer can directly utilize.\n",
        "   - A Python interpreter reads and runs your code one line at a time. Unlike a compiler, which translates the whole program before running it, an interpreter works step by step\n",
        "   - For example,"
      ],
      "metadata": {
        "id": "mZlUB7MKz4fy"
      }
    },
    {
      "cell_type": "code",
      "source": [
        "print(\"Hello world\")"
      ],
      "metadata": {
        "colab": {
          "base_uri": "https://localhost:8080/"
        },
        "id": "lW6c-KTpzhnj",
        "outputId": "b3feba17-d615-496b-d67f-bd88c898a2c3"
      },
      "execution_count": null,
      "outputs": [
        {
          "output_type": "stream",
          "name": "stdout",
          "text": [
            "Hello world\n"
          ]
        }
      ]
    },
    {
      "cell_type": "markdown",
      "source": [
        "3. What are pre-defined keywords in Python\n",
        "  \n",
        "  - keywords are predefined words that hold a special meaning and have specific purpose in python.\n",
        "  - list of keywords:-\n",
        "\n"
      ],
      "metadata": {
        "id": "VvkWYnqG1HFS"
      }
    },
    {
      "cell_type": "code",
      "source": [
        "help('keywords')"
      ],
      "metadata": {
        "colab": {
          "base_uri": "https://localhost:8080/"
        },
        "id": "L7t3ubjH9Lie",
        "outputId": "a29861ff-b99d-4b54-c38f-98284acc7f01"
      },
      "execution_count": null,
      "outputs": [
        {
          "output_type": "stream",
          "name": "stdout",
          "text": [
            "\n",
            "Here is a list of the Python keywords.  Enter any keyword to get more help.\n",
            "\n",
            "False               class               from                or\n",
            "None                continue            global              pass\n",
            "True                def                 if                  raise\n",
            "and                 del                 import              return\n",
            "as                  elif                in                  try\n",
            "assert              else                is                  while\n",
            "async               except              lambda              with\n",
            "await               finally             nonlocal            yield\n",
            "break               for                 not                 \n",
            "\n"
          ]
        }
      ]
    },
    {
      "cell_type": "markdown",
      "source": [
        "4.Can keywords be used as variable names\n",
        "   - No, you generally cannot use keywords (reserved words) as variable names in most programming languages because they have predefined meanings and are used by the compiler for specific functions or structures, such as if, for, or class. Attempting to use a keyword as a variable name will result in a Syntax Error, as the compiler needs to use these words for their intended purposes."
      ],
      "metadata": {
        "id": "PDN3XNBA-q9V"
      }
    },
    {
      "cell_type": "code",
      "source": [
        "# is will cause syntax error\n",
        "if = 10\n"
      ],
      "metadata": {
        "colab": {
          "base_uri": "https://localhost:8080/",
          "height": 106
        },
        "id": "OMmHpT8y_VD1",
        "outputId": "bb462d75-aca1-4a48-9728-6291def100cc"
      },
      "execution_count": null,
      "outputs": [
        {
          "output_type": "error",
          "ename": "SyntaxError",
          "evalue": "invalid syntax (ipython-input-2781089405.py, line 2)",
          "traceback": [
            "\u001b[0;36m  File \u001b[0;32m\"/tmp/ipython-input-2781089405.py\"\u001b[0;36m, line \u001b[0;32m2\u001b[0m\n\u001b[0;31m    if = 10\u001b[0m\n\u001b[0m       ^\u001b[0m\n\u001b[0;31mSyntaxError\u001b[0m\u001b[0;31m:\u001b[0m invalid syntax\n"
          ]
        }
      ]
    },
    {
      "cell_type": "markdown",
      "source": [
        "5. What is mutability in Python\n",
        "   - object/container whose state or value can be chnaged affter they are called as mutable objesct or container, alson called as item assignment.\n",
        "   - list is a type of mutable object or supports item assignment.\n",
        "   "
      ],
      "metadata": {
        "id": "Wp-VagC4Bh3W"
      }
    },
    {
      "cell_type": "code",
      "source": [
        " my_list = (\"1, 2, 3, 4\")\n",
        " print(my_list)"
      ],
      "metadata": {
        "colab": {
          "base_uri": "https://localhost:8080/"
        },
        "id": "oDGq3Y58_p5W",
        "outputId": "3dd9706c-9989-4c8e-8db4-5c8a2390a0e9"
      },
      "execution_count": null,
      "outputs": [
        {
          "output_type": "stream",
          "name": "stdout",
          "text": [
            "1, 2, 3, 4\n"
          ]
        }
      ]
    },
    {
      "cell_type": "markdown",
      "source": [
        "6.Why are lists mutable, but tuples are immutable\n",
        "   - Lists are mutable because their internal structure can be changed after creation, allowing for dynamic data handling like adding, removing, or modifying elements.\n",
        "   -  Tuples are immutable because their contents are fixed and cannot be changed once the tuple is created.\n",
        "   - This design difference is intentional; tuples are used for data that should remain constant, ensuring data integrity and providing a guarantee that a particular collection of items will not be altered unintentionally.\n",
        "- Why Lists are Mutable\n",
        "   - Flexibility for Dynamic Data:\n",
        "     - Lists are designed to be flexible containers for data that might change over time.\n",
        "  - Modification Operations:\n",
        "     - They support operations such as adding new elements, removing existing elements, or changing the value of an element at a specific index.\n",
        "  - Common Use Cases:\n",
        "    - Lists are ideal for scenarios where the data is expected to grow, shrink, or be reordered, making them suitable for general-purpose data collection.\n",
        "- Why Tuples are Immutable\n",
        "   - Data Integrity:\n",
        "      - Tuples are used to store data that is intended to be constant and should not be altered after creation.\n",
        "   - Guarantee of Stability:\n",
        "     - The immutability of a tuple guarantees that the collection of items it holds will remain fixed, preventing accidental changes by other parts of the program.\n",
        "   - Use in Constant Data:\n",
        "      - This makes tuples appropriate for representing fixed data, such as function return values or constant configurations.     "
      ],
      "metadata": {
        "id": "_vfUyHBnFZjX"
      }
    },
    {
      "cell_type": "markdown",
      "source": [
        "7.What is the difference between “==” and “is” operators in Python\n",
        "   - In Python, the == operator and the is operator serve distinct purposes in object comparison:\n",
        "     - == (Equality Operator):\n",
        "       - Compares the values of two objects.\n",
        "       - Evaluates whether the content or data held by the objects is the same.\n",
        "       - Returns True if the values are equal, False otherwise.\n",
        "       - This operator can be customized for custom classes by defining the __eq__ method."
      ],
      "metadata": {
        "id": "0ZOs6Fj0G8aQ"
      }
    },
    {
      "cell_type": "code",
      "source": [
        "list1 = [1, 2, 3, 4, 5]\n",
        "list2 = [1, 2, 3, 4, 5]\n",
        "print(list1==list2)"
      ],
      "metadata": {
        "colab": {
          "base_uri": "https://localhost:8080/"
        },
        "id": "kFvWXPTyIPHB",
        "outputId": "33431234-c8c1-46e9-ebbc-cad4a5d877e1"
      },
      "execution_count": null,
      "outputs": [
        {
          "output_type": "stream",
          "name": "stdout",
          "text": [
            "True\n"
          ]
        }
      ]
    },
    {
      "cell_type": "markdown",
      "source": [
        "  - is (Identity Operator):\n",
        "     - Compares the identity of two objects.\n",
        "     - Evaluates whether two variables refer to the exact same object in memory.\n",
        "     - Returns True if both variables point to the same memory location, False otherwise.\n",
        "     - The is operator cannot be overloaded."
      ],
      "metadata": {
        "id": "mmi5aMONItcI"
      }
    },
    {
      "cell_type": "code",
      "source": [
        "list1 = [1, 2, 3, 4,]\n",
        "list2 = [1, 2, 3, 4]\n",
        "print(list1 is list2)"
      ],
      "metadata": {
        "colab": {
          "base_uri": "https://localhost:8080/"
        },
        "id": "8X1BcrEUIoVZ",
        "outputId": "536b1f06-4432-418c-9e20-26be4d427b66"
      },
      "execution_count": null,
      "outputs": [
        {
          "output_type": "stream",
          "name": "stdout",
          "text": [
            "False\n"
          ]
        }
      ]
    },
    {
      "cell_type": "markdown",
      "source": [
        "8. What are logical operators in Python\n",
        "   - Logical operators in Python are used to combine conditional statements and evaluate the truthfulness of expressions. They are also known as Boolean operators because they work with Boolean values (True or False). There are three primary logical operators in Python:\n",
        "     - and operator:\n",
        "       - Returns True if both operands are True.\n",
        "       - Returns False if at least one operand is False.\n",
        "     - or operator:\n",
        "       - eturns True if at least one operand is True.\n",
        "       -  Returns False only if both operands are False.\n",
        "     - not operator:\n",
        "        - This is a unary operator, meaning it operates on a single operand.\n",
        "        - Returns the inverse of the operand's Boolean value. If the operand is True, not returns False, and vice-versa.\n",
        "\n"
      ],
      "metadata": {
        "id": "jXwgO03TKVtC"
      }
    },
    {
      "cell_type": "markdown",
      "source": [
        "9.What is type casting in Python\n",
        "   - The process of changing the data type of a value/object,why? while executing/computation using operators,there can be mismatch between the data.\n",
        "   - Characters cannot be converted into numbers.\n",
        "   - type casting is of two type :-\n",
        "       - Implicit -Python understand the data type\n",
        "       - Explicit -convert data type using inbuilt funcition"
      ],
      "metadata": {
        "id": "DAZa2Us0UFu_"
      }
    },
    {
      "cell_type": "markdown",
      "source": [
        "10.What is the difference between implicit and explicit type casting\n",
        "   - Implicit Type Casting\n",
        "       - mplicit type casting occurs automatically by the Python interpreter when performing operations involving different data types. Python attempts to avoid data loss by promoting the \"smaller\" data type to the \"larger\" data type.\n",
        "   - Explicit Type Casting\n",
        "       - xplicit type casting is performed by the programmer using built-in functions to convert a value from one data type to another. This gives the programmer direct control over the conversion process."
      ],
      "metadata": {
        "id": "CLiyCV88VqNk"
      }
    },
    {
      "cell_type": "code",
      "source": [
        "#Implicit type casting\n",
        "a = 5\n",
        "type(a)"
      ],
      "metadata": {
        "id": "FCmGIalmMUKK",
        "colab": {
          "base_uri": "https://localhost:8080/"
        },
        "outputId": "1b41afd7-bb24-4a39-b95e-a5782a833f23"
      },
      "execution_count": null,
      "outputs": [
        {
          "output_type": "execute_result",
          "data": {
            "text/plain": [
              "int"
            ]
          },
          "metadata": {},
          "execution_count": 1
        }
      ]
    },
    {
      "cell_type": "code",
      "source": [
        "#Explicit type casting\n",
        "a = \"5\"\n",
        "type(a)"
      ],
      "metadata": {
        "colab": {
          "base_uri": "https://localhost:8080/"
        },
        "id": "u95Btw0IXH6r",
        "outputId": "fc18cd99-485a-4110-d900-6ed0cbe63d5f"
      },
      "execution_count": null,
      "outputs": [
        {
          "output_type": "execute_result",
          "data": {
            "text/plain": [
              "str"
            ]
          },
          "metadata": {},
          "execution_count": 2
        }
      ]
    },
    {
      "cell_type": "code",
      "source": [
        "int(a)"
      ],
      "metadata": {
        "colab": {
          "base_uri": "https://localhost:8080/"
        },
        "id": "fqholcr0XfvZ",
        "outputId": "b9747b77-8fe9-4e9e-85f9-979b5b8424f8"
      },
      "execution_count": null,
      "outputs": [
        {
          "output_type": "execute_result",
          "data": {
            "text/plain": [
              "5"
            ]
          },
          "metadata": {},
          "execution_count": 3
        }
      ]
    },
    {
      "cell_type": "markdown",
      "source": [
        "11.What is the purpose of conditional statements in Python\n",
        "   - The purpose of conditional statements in Python is to enable programs to make decisions and execute different blocks of code based on whether specific conditions are met. They control the flow of execution within a program, allowing for dynamic and adaptive behavior.\n",
        "   - Conditional statements (like if, elif, and else) allow the program to evaluate a condition and choose which code path to follow based on whether the condition evaluates to True or False.\n",
        "   - Conditional statements are crucial for handling diverse situations within a program. For example, a program might need to perform one action if a user is logged in and a different action if they are not.\n",
        "   - In essence, conditional statements provide the fundamental mechanism for implementing logic and decision-making capabilities in Python programs.\n"
      ],
      "metadata": {
        "id": "GfNH8-NyXsCI"
      }
    },
    {
      "cell_type": "markdown",
      "source": [
        "12.How does the elif statement work\n",
        "  - The elif statement, a contraction of \"else if,\" functions within conditional logic to allow for the evaluation of multiple conditions in sequence. It is used in conjunction with an initial if statement and can be followed by an optional else statement.\n",
        "\n",
        "  Here's how it works:\n",
        "   - Initial if check:\n",
        "     The program first evaluates the condition associated with the if statement.\n",
        "      - If this condition is True, the code block under the if statement is executed, and the entire if-elif-else structure is exited.\n",
        "   - elif checks (if if is False):\n",
        "    - If the if condition is False, the program proceeds to check the condition of the first elif statement.\n",
        "      - If this elif condition is True, the code block under that elif statement is executed, and the entire if-elif-else structure is exited.\n",
        "      - If this elif condition is False, the program moves to the next elif statement (if one exists) and repeats the process. This continues for any number of elif statements.\n",
        "  -  Optional else (if all preceding conditions are False):\n",
        "     - If all if and elif conditions evaluate to False, and an else statement is present, the code block under the else statement is executed.   "
      ],
      "metadata": {
        "id": "x8Az1i5rYiBU"
      }
    },
    {
      "cell_type": "code",
      "source": [
        "score = 77\n",
        "if score >=90:\n",
        "  print(\"Grade: A\")\n",
        "elif score >=80:\n",
        "  print(\"Grade: B\")\n",
        "elif score >=70:\n",
        "  print(\"Grade C\")\n",
        "else:\n",
        "  print(\"Grade F\")\n"
      ],
      "metadata": {
        "colab": {
          "base_uri": "https://localhost:8080/"
        },
        "id": "QDp0xP7LXjZY",
        "outputId": "f2bd76d5-b409-42f2-b8aa-2a6c99fe8028"
      },
      "execution_count": null,
      "outputs": [
        {
          "output_type": "stream",
          "name": "stdout",
          "text": [
            "Grade C\n"
          ]
        }
      ]
    },
    {
      "cell_type": "markdown",
      "source": [
        "13.What is the difference between for and while loops\n",
        "   - For Loop\n",
        "     - Iteration Control:\n",
        "       - Used when the number of iterations is known beforehand or when you need to iterate over a sequence (like a list, tuple, string, or range).\n",
        "     - Mechanism:\n",
        "       - It iterates over each item in a sequence, executing the loop body for each item.\n",
        "    - Termination:\n",
        "      - Terminates automatically after iterating through all items in the sequence\n",
        "   - While loop\n",
        "     - Iteration Control:\n",
        "       - Used when the number of iterations is unknown and depends on a specific condition being met.\n",
        "     - Mechanism:\n",
        "       - It repeatedly executes a block of code as long as a given condition remains true.\n",
        "     - Termination:\n",
        "       - Terminates when the specified condition becomes false. If the condition never becomes false, it can result in an infinite loop.    "
      ],
      "metadata": {
        "id": "3ytMIih7bdcL"
      }
    },
    {
      "cell_type": "code",
      "source": [
        "#For loop\n",
        "a = \"PWSKILLS\"\n",
        "for i in a:\n",
        "  print(i)"
      ],
      "metadata": {
        "colab": {
          "base_uri": "https://localhost:8080/"
        },
        "id": "Y-hKyXH6bWZI",
        "outputId": "470b3b69-1d21-4229-eb8a-f8a0064b6f9a"
      },
      "execution_count": null,
      "outputs": [
        {
          "output_type": "stream",
          "name": "stdout",
          "text": [
            "P\n",
            "W\n",
            "S\n",
            "K\n",
            "I\n",
            "L\n",
            "L\n",
            "S\n"
          ]
        }
      ]
    },
    {
      "cell_type": "code",
      "source": [
        "#while loop\n",
        "n = 7\n",
        "i = 1\n",
        "while i < n :\n",
        "  print(i)\n",
        "  i = i + 1"
      ],
      "metadata": {
        "colab": {
          "base_uri": "https://localhost:8080/"
        },
        "id": "0L97468fe1zL",
        "outputId": "931c099e-ea1a-4501-d049-21ab1c986659"
      },
      "execution_count": null,
      "outputs": [
        {
          "output_type": "stream",
          "name": "stdout",
          "text": [
            "1\n",
            "2\n",
            "3\n",
            "4\n",
            "5\n",
            "6\n"
          ]
        }
      ]
    },
    {
      "cell_type": "markdown",
      "source": [
        "14.Describe a scenario where a while loop is more suitable than a for loop\n",
        "  - A while loop is more suitable than a for loop in Python when the number of iterations is not known in advance and the loop needs to continue until a specific condition is met.\n",
        "   - Scenario where while loop is more suitable:-\n",
        "  \n",
        "   Suppose you are writing a program that asks a user to enter a password until they get it correct.\n",
        "\n",
        "Here, you don’t know in advance how many attempts it will take → so a while loop is ideal.\n"
      ],
      "metadata": {
        "id": "GK9dJrNsfW0E"
      }
    },
    {
      "cell_type": "code",
      "source": [
        "# Correct password\n",
        "correct_password = \"pwskills\"\n",
        "\n",
        "# User input\n",
        "user_input = input(\"Enter your password: \")\n",
        "\n",
        "# Keep asking until the password is correct\n",
        "while user_input != correct_password:\n",
        "    print(\"Incorrect password, try again!\")\n",
        "    user_input = input(\"Enter your password: \")\n",
        "\n",
        "print(\"Access granted ✅\")\n"
      ],
      "metadata": {
        "id": "fjT8I1Ttguue",
        "colab": {
          "base_uri": "https://localhost:8080/"
        },
        "outputId": "e87e30e3-34f3-49d2-e7d8-826c19875678"
      },
      "execution_count": null,
      "outputs": [
        {
          "output_type": "stream",
          "name": "stdout",
          "text": [
            "Enter your password: pwskills\n",
            "Access granted ✅\n"
          ]
        }
      ]
    },
    {
      "cell_type": "markdown",
      "source": [
        "***Practical Questions***"
      ],
      "metadata": {
        "id": "1wM-DaxTUvut"
      }
    },
    {
      "cell_type": "code",
      "source": [
        "#1. Write a Python program to print \"Hello, World!\n",
        "print(\"Hello, world!\")"
      ],
      "metadata": {
        "colab": {
          "base_uri": "https://localhost:8080/"
        },
        "id": "CiGCxYBNS9R_",
        "outputId": "768fe0a0-6c23-44f4-d6ba-491562653a21"
      },
      "execution_count": null,
      "outputs": [
        {
          "output_type": "stream",
          "name": "stdout",
          "text": [
            "Hello, world!\n"
          ]
        }
      ]
    },
    {
      "cell_type": "code",
      "source": [
        "#2.Write a Python program that displays your name and age\n",
        "input(\"enter your name:\")\n",
        "input(\"enter your age:\")"
      ],
      "metadata": {
        "colab": {
          "base_uri": "https://localhost:8080/",
          "height": 70
        },
        "id": "nSqAyH9BVRbX",
        "outputId": "caf49148-5189-4878-c115-9a6b973719c8"
      },
      "execution_count": null,
      "outputs": [
        {
          "name": "stdout",
          "output_type": "stream",
          "text": [
            "enter your name:Mahesh\n",
            "enter your age:22\n"
          ]
        },
        {
          "output_type": "execute_result",
          "data": {
            "text/plain": [
              "'22'"
            ],
            "application/vnd.google.colaboratory.intrinsic+json": {
              "type": "string"
            }
          },
          "metadata": {},
          "execution_count": 4
        }
      ]
    },
    {
      "cell_type": "code",
      "source": [
        "#3. Write code to print all the pre-defined keywords in Python using the keyword library\n",
        "help(\"keywords\")"
      ],
      "metadata": {
        "colab": {
          "base_uri": "https://localhost:8080/"
        },
        "id": "R5d4d20EVwhG",
        "outputId": "86c3cc3e-3f20-48ec-ae23-06c27a6f295d"
      },
      "execution_count": null,
      "outputs": [
        {
          "output_type": "stream",
          "name": "stdout",
          "text": [
            "\n",
            "Here is a list of the Python keywords.  Enter any keyword to get more help.\n",
            "\n",
            "False               class               from                or\n",
            "None                continue            global              pass\n",
            "True                def                 if                  raise\n",
            "and                 del                 import              return\n",
            "as                  elif                in                  try\n",
            "assert              else                is                  while\n",
            "async               except              lambda              with\n",
            "await               finally             nonlocal            yield\n",
            "break               for                 not                 \n",
            "\n"
          ]
        }
      ]
    },
    {
      "cell_type": "code",
      "source": [
        "#4. Write a program that checks if a given word is a Python keyword\n",
        "# Import the keyword module to access Python keywords\n",
        "import keyword\n",
        "s = \"while\"\n",
        "\n",
        "# Check if the input string is in the list of Python keywords\n",
        "if s in keyword.kwlist:\n",
        "    # Print a message if the string is a Python keyword\n",
        "    print(f\"'{s}' is a Python keyword.\")\n",
        "else:\n",
        "   print(f\"'{s}' is not a Python keyword.\")"
      ],
      "metadata": {
        "colab": {
          "base_uri": "https://localhost:8080/"
        },
        "id": "54Kv-Te8WLWx",
        "outputId": "c179bbd8-29fe-4456-aa2f-ad4f6d02fb7f"
      },
      "execution_count": null,
      "outputs": [
        {
          "output_type": "stream",
          "name": "stdout",
          "text": [
            "'while' is a Python keyword.\n"
          ]
        }
      ]
    },
    {
      "cell_type": "code",
      "source": [
        "#5. Create a list and tuple in Python, and demonstrate how attempting to change an element works differently for each.\n",
        "\n",
        "a = [1, 2, 3]\n",
        "b = ['apple', 'orange', 'cherry']\n",
        "res = list(zip(a, b))\n",
        "print(res)\n"
      ],
      "metadata": {
        "colab": {
          "base_uri": "https://localhost:8080/"
        },
        "id": "IHzgwA17ctGW",
        "outputId": "d774a927-b7da-4f6b-a82b-d638fd6c4633"
      },
      "execution_count": null,
      "outputs": [
        {
          "output_type": "stream",
          "name": "stdout",
          "text": [
            "[(1, 'apple'), (2, 'orange'), (3, 'cherry')]\n"
          ]
        }
      ]
    },
    {
      "cell_type": "code",
      "source": [
        "#6. Write a function to demonstrate the behavior of mutable and immutable arguments\n",
        "def change_values(num, items):\n",
        "    # Immutable (int)\n",
        "    num = num + 5   # creates a new number\n",
        "\n",
        "    # Mutable (list)\n",
        "    items.append(100)  # changes the original list\n",
        "    print(\"Inside function:\")\n",
        "    print(\"num =\", num)\n",
        "    print(\"items =\", items)\n",
        "# Driver code\n",
        "a = 10          # immutable (int)\n",
        "b = [1, 2, 3]   # mutable (list)\n",
        "print(\"Before function call:\")\n",
        "print(\"a =\", a)\n",
        "print(\"b =\", b)\n",
        "\n",
        "change_values(a, b)\n",
        "\n",
        "print(\"\\nAfter function call:\")\n",
        "print(\"a =\", a)   # unchanged\n",
        "print(\"b =\", b)   # changed\n",
        "\n"
      ],
      "metadata": {
        "id": "X37m_Q7hixqH",
        "colab": {
          "base_uri": "https://localhost:8080/"
        },
        "outputId": "d5dd23c3-c16e-4960-8882-eadea8908a67"
      },
      "execution_count": null,
      "outputs": [
        {
          "output_type": "stream",
          "name": "stdout",
          "text": [
            "Before function call:\n",
            "a = 10\n",
            "b = [1, 2, 3]\n",
            "Inside function:\n",
            "num = 15\n",
            "items = [1, 2, 3, 100]\n",
            "\n",
            "After function call:\n",
            "a = 10\n",
            "b = [1, 2, 3, 100]\n"
          ]
        }
      ]
    },
    {
      "cell_type": "code",
      "source": [
        "#Easy takeaway:\n",
        "\n",
        "#a (integer, immutable) does not change.\n",
        "#b (list, mutable) does change."
      ],
      "metadata": {
        "id": "KhUifqm2j-lY"
      },
      "execution_count": null,
      "outputs": []
    },
    {
      "cell_type": "code",
      "source": [
        "#7. Write a program that performs basic arithmetic operations on two user-input numbers\n",
        "# arithmetic operations\n",
        "\n",
        "# Get input from user\n",
        "a = int(input(\"Enter first number: \"))\n",
        "b = int(input(\"Enter second number: \"))\n",
        "\n",
        "print(\"Addition:\", a + b)\n",
        "print(\"Subtraction:\", a - b)\n",
        "print(\"Multiplication:\", a * b)\n",
        "# Check before division\n",
        "if b != 0:\n",
        "    print(\"Division:\", a / b)\n",
        "else:\n",
        "    print(\"Division: Not possible (cannot divide by zero)\")\n"
      ],
      "metadata": {
        "colab": {
          "base_uri": "https://localhost:8080/"
        },
        "id": "zpKGqvhAkVp6",
        "outputId": "5ea46b14-8310-494f-ffc8-2060a6cc0599"
      },
      "execution_count": null,
      "outputs": [
        {
          "output_type": "stream",
          "name": "stdout",
          "text": [
            "Enter first number: 5\n",
            "Enter second number: 6\n",
            "Addition: 11\n",
            "Subtraction: -1\n",
            "Multiplication: 30\n",
            "Division: 0.8333333333333334\n"
          ]
        }
      ]
    },
    {
      "cell_type": "code",
      "source": [
        "#8. Write a program to demonstrate the use of logical operators.\n",
        "# logical operators\n",
        "\n",
        "x = 10\n",
        "y = 5\n",
        "print(\"x =\", x)\n",
        "print(\"y =\", y)\n",
        "# AND operator\n",
        "print(\"x > 5 and y > 2:\", x > 5 and y > 2)\n",
        "# OR operator\n",
        "print(\"x > 15 or y > 2:\", x > 15 or y > 2)\n",
        "# NOT operator\n",
        "print(\"not(x > y):\", not(x > y))\n"
      ],
      "metadata": {
        "colab": {
          "base_uri": "https://localhost:8080/"
        },
        "id": "ODxAZaQAk6Cw",
        "outputId": "6bc153e9-17cb-4407-e80a-7aa3bac39cee"
      },
      "execution_count": null,
      "outputs": [
        {
          "output_type": "stream",
          "name": "stdout",
          "text": [
            "x = 10\n",
            "y = 5\n",
            "x > 5 and y > 2: True\n",
            "x > 15 or y > 2: True\n",
            "not(x > y): False\n"
          ]
        }
      ]
    },
    {
      "cell_type": "code",
      "source": [
        "#9. Write a Python program to convert user input from string to integer, float, and boolean types\n",
        "# Program to convert user input into int, float, and bool\n",
        "\n",
        "user_input = input(\"Enter a value: \")\n",
        "# Convert to integer\n",
        "print(\"As Integer:\", int(user_input))\n",
        "# Convert to float\n",
        "print(\"As Float:\", float(user_input))\n",
        "# Convert to boolean\n",
        "print(\"As Boolean:\", bool(user_input))\n"
      ],
      "metadata": {
        "colab": {
          "base_uri": "https://localhost:8080/"
        },
        "id": "PVHrbIbGlyPy",
        "outputId": "276773d5-dd2f-41ec-9171-3536ef2115dd"
      },
      "execution_count": null,
      "outputs": [
        {
          "output_type": "stream",
          "name": "stdout",
          "text": [
            "Enter a value: 10\n",
            "As Integer: 10\n",
            "As Float: 10.0\n",
            "As Boolean: True\n"
          ]
        }
      ]
    },
    {
      "cell_type": "code",
      "source": [
        "#10. Write code to demonstrate type casting with list elements.\n",
        "# casting with list elements\n",
        "\n",
        "numbers = [\"1\", \"2\", \"3\"]   # list of strings\n",
        "print(\"Original list:\", numbers)\n",
        "# Convert to integers\n",
        "numbers_int = [int(x) for x in numbers]\n",
        "print(\"As integers:\", numbers_int)\n",
        "# Convert to floats\n",
        "numbers_float = [float(x) for x in numbers]\n",
        "print(\"As floats:\", numbers_float)\n"
      ],
      "metadata": {
        "colab": {
          "base_uri": "https://localhost:8080/"
        },
        "id": "0nrJCPrwmJkl",
        "outputId": "8c6c43c6-f620-4811-d883-7ed66017f7dd"
      },
      "execution_count": null,
      "outputs": [
        {
          "output_type": "stream",
          "name": "stdout",
          "text": [
            "Original list: ['1', '2', '3']\n",
            "As integers: [1, 2, 3]\n",
            "As floats: [1.0, 2.0, 3.0]\n"
          ]
        }
      ]
    },
    {
      "cell_type": "code",
      "source": [
        "#11. Write a program that checks if a number is positive, negative, or zero\n",
        "# check if a number is positive, negative, or zero\n",
        "\n",
        "# Take input from user\n",
        "num = float(input(\"Enter a number: \"))\n",
        "if num > 0:\n",
        "    print(\"The number is Positive\")\n",
        "elif num < 0:\n",
        "    print(\"The number is Negative\")\n",
        "else:\n",
        "    print(\"The number is Zero\")\n"
      ],
      "metadata": {
        "colab": {
          "base_uri": "https://localhost:8080/"
        },
        "id": "W1hJw7Domi9f",
        "outputId": "12a0bce4-c4ca-4f4c-f3d4-772f143347dc"
      },
      "execution_count": null,
      "outputs": [
        {
          "output_type": "stream",
          "name": "stdout",
          "text": [
            "Enter a number: 10\n",
            "The number is Positive\n"
          ]
        }
      ]
    },
    {
      "cell_type": "code",
      "source": [
        "num = float(input(\"Enter a number: \"))\n",
        "if num > 0:\n",
        "    print(\"The number is Positive\")\n",
        "elif num < 0:\n",
        "    print(\"The number is Negative\")\n",
        "else:\n",
        "    print(\"The number is Zero\")\n"
      ],
      "metadata": {
        "colab": {
          "base_uri": "https://localhost:8080/"
        },
        "id": "A-AJKq0knIDl",
        "outputId": "194bec25-e9c2-4038-ba70-d6dd04656d6b"
      },
      "execution_count": null,
      "outputs": [
        {
          "output_type": "stream",
          "name": "stdout",
          "text": [
            "Enter a number: -5\n",
            "The number is Negative\n"
          ]
        }
      ]
    },
    {
      "cell_type": "code",
      "source": [
        "num = float(input(\"Enter a number: \"))\n",
        "if num > 0:\n",
        "    print(\"The number is Positive\")\n",
        "elif num < 0:\n",
        "    print(\"The number is Negative\")\n",
        "else:\n",
        "    print(\"The number is Zero\")"
      ],
      "metadata": {
        "colab": {
          "base_uri": "https://localhost:8080/"
        },
        "id": "PSpoTSGdnQMx",
        "outputId": "af9701ea-9ee0-4838-f3b0-ef71f11e58d8"
      },
      "execution_count": null,
      "outputs": [
        {
          "output_type": "stream",
          "name": "stdout",
          "text": [
            "Enter a number: 0\n",
            "The number is Zero\n"
          ]
        }
      ]
    },
    {
      "cell_type": "code",
      "source": [
        "#12. Write a for loop to print numbers from 1 to 10p\n",
        "for i in range(1, 11):\n",
        "    print(i)\n"
      ],
      "metadata": {
        "colab": {
          "base_uri": "https://localhost:8080/"
        },
        "id": "J3xOJSubnT8P",
        "outputId": "35fbaffc-ffd6-4bca-f967-11f78324922e"
      },
      "execution_count": null,
      "outputs": [
        {
          "output_type": "stream",
          "name": "stdout",
          "text": [
            "1\n",
            "2\n",
            "3\n",
            "4\n",
            "5\n",
            "6\n",
            "7\n",
            "8\n",
            "9\n",
            "10\n"
          ]
        }
      ]
    },
    {
      "cell_type": "code",
      "source": [
        "#13. Write a Python program to find the sum of all even numbers between 1 and 50\n",
        "# Sum of even numbers from 1 to 50\n",
        "\n",
        "total = 0\n",
        "for i in range(1, 51):\n",
        "    if i % 2 == 0:   # check if even\n",
        "        total += i\n",
        "\n",
        "print(\"Sum of even numbers from 1 to 50 is:\", total)\n"
      ],
      "metadata": {
        "colab": {
          "base_uri": "https://localhost:8080/"
        },
        "id": "bd1LldmunkZF",
        "outputId": "e9df6436-512b-403b-89fc-dcef019a8ee2"
      },
      "execution_count": null,
      "outputs": [
        {
          "output_type": "stream",
          "name": "stdout",
          "text": [
            "Sum of even numbers from 1 to 50 is: 650\n"
          ]
        }
      ]
    },
    {
      "cell_type": "code",
      "source": [
        "#14. Write a program to reverse a string using a while loop.\n",
        "# Reverse a string using while loop\n",
        "\n",
        "word = \"hello\"\n",
        "i = len(word) - 1\n",
        "rev = \"\"\n",
        "while i >= 0:\n",
        "    rev = rev + word[i]\n",
        "    i -= 1\n",
        "print(\"Original:\", word)\n",
        "print(\"Reversed:\", rev)\n"
      ],
      "metadata": {
        "colab": {
          "base_uri": "https://localhost:8080/"
        },
        "id": "arI0sM_ColGF",
        "outputId": "e545934f-46b9-44b8-8c9a-9423454464af"
      },
      "execution_count": null,
      "outputs": [
        {
          "output_type": "stream",
          "name": "stdout",
          "text": [
            "Original: hello\n",
            "Reversed: olleh\n"
          ]
        }
      ]
    },
    {
      "cell_type": "code",
      "source": [
        "#15. Write a Python program to calculate the factorial of a number provided by the user using a while loop\n",
        "# Factorial using while loop\n",
        "\n",
        "num = 5   # fixed number\n",
        "fact = 1\n",
        "i = 1\n",
        "while i <= num:\n",
        "    fact = fact * i\n",
        "    i += 1\n",
        "print(\"Factorial of\", num, \"is:\", fact)\n"
      ],
      "metadata": {
        "colab": {
          "base_uri": "https://localhost:8080/"
        },
        "id": "i5VOpw6Po7pD",
        "outputId": "4e8d5471-14bb-4377-f2f5-a075c48bd154"
      },
      "execution_count": null,
      "outputs": [
        {
          "output_type": "stream",
          "name": "stdout",
          "text": [
            "Factorial of 5 is: 120\n"
          ]
        }
      ]
    },
    {
      "cell_type": "code",
      "source": [],
      "metadata": {
        "id": "Z2ChIwfepygF"
      },
      "execution_count": null,
      "outputs": []
    }
  ]
}